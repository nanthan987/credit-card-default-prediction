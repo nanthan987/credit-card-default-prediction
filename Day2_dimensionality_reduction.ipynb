{
  "nbformat": 4,
  "nbformat_minor": 0,
  "metadata": {
    "colab": {
      "name": "DATASTORM_2019_nanthan987.ipynb",
      "provenance": [],
      "collapsed_sections": []
    },
    "kernelspec": {
      "name": "python3",
      "display_name": "Python 3"
    },
    "accelerator": "GPU"
  },
  "cells": [
    {
      "cell_type": "markdown",
      "metadata": {
        "id": "JhREgYSfovJU",
        "colab_type": "text"
      },
      "source": [
        "#**Dimensionality Reduction**"
      ]
    },
    {
      "cell_type": "markdown",
      "metadata": {
        "id": "F4XFZVJopZGt",
        "colab_type": "text"
      },
      "source": [
        "Dimensionality reduction is performed on the dataset using different techniques and the results are tested using an XGBoost Model"
      ]
    },
    {
      "cell_type": "code",
      "metadata": {
        "id": "fcCrP4F7M-el",
        "colab_type": "code",
        "colab": {
          "base_uri": "https://localhost:8080/",
          "height": 345
        },
        "outputId": "bf359880-0a91-4486-9502-083d2881bb16"
      },
      "source": [
        "!pip install tpot"
      ],
      "execution_count": null,
      "outputs": [
        {
          "output_type": "stream",
          "text": [
            "Requirement already satisfied: tpot in /usr/local/lib/python3.6/dist-packages (0.11.1)\n",
            "Requirement already satisfied: deap>=1.2 in /usr/local/lib/python3.6/dist-packages (from tpot) (1.3.1)\n",
            "Requirement already satisfied: numpy>=1.16.3 in /usr/local/lib/python3.6/dist-packages (from tpot) (1.17.5)\n",
            "Requirement already satisfied: pandas>=0.24.2 in /usr/local/lib/python3.6/dist-packages (from tpot) (0.25.3)\n",
            "Requirement already satisfied: scipy>=1.3.1 in /usr/local/lib/python3.6/dist-packages (from tpot) (1.4.1)\n",
            "Requirement already satisfied: update-checker>=0.16 in /usr/local/lib/python3.6/dist-packages (from tpot) (0.16)\n",
            "Requirement already satisfied: joblib>=0.13.2 in /usr/local/lib/python3.6/dist-packages (from tpot) (0.14.1)\n",
            "Requirement already satisfied: tqdm>=4.36.1 in /usr/local/lib/python3.6/dist-packages (from tpot) (4.42.1)\n",
            "Requirement already satisfied: scikit-learn>=0.22.0 in /usr/local/lib/python3.6/dist-packages (from tpot) (0.22.1)\n",
            "Requirement already satisfied: stopit>=1.1.1 in /usr/local/lib/python3.6/dist-packages (from tpot) (1.1.2)\n",
            "Requirement already satisfied: pytz>=2017.2 in /usr/local/lib/python3.6/dist-packages (from pandas>=0.24.2->tpot) (2018.9)\n",
            "Requirement already satisfied: python-dateutil>=2.6.1 in /usr/local/lib/python3.6/dist-packages (from pandas>=0.24.2->tpot) (2.6.1)\n",
            "Requirement already satisfied: requests>=2.3.0 in /usr/local/lib/python3.6/dist-packages (from update-checker>=0.16->tpot) (2.21.0)\n",
            "Requirement already satisfied: six>=1.5 in /usr/local/lib/python3.6/dist-packages (from python-dateutil>=2.6.1->pandas>=0.24.2->tpot) (1.12.0)\n",
            "Requirement already satisfied: certifi>=2017.4.17 in /usr/local/lib/python3.6/dist-packages (from requests>=2.3.0->update-checker>=0.16->tpot) (2019.11.28)\n",
            "Requirement already satisfied: chardet<3.1.0,>=3.0.2 in /usr/local/lib/python3.6/dist-packages (from requests>=2.3.0->update-checker>=0.16->tpot) (3.0.4)\n",
            "Requirement already satisfied: urllib3<1.25,>=1.21.1 in /usr/local/lib/python3.6/dist-packages (from requests>=2.3.0->update-checker>=0.16->tpot) (1.24.3)\n",
            "Requirement already satisfied: idna<2.9,>=2.5 in /usr/local/lib/python3.6/dist-packages (from requests>=2.3.0->update-checker>=0.16->tpot) (2.8)\n"
          ],
          "name": "stdout"
        }
      ]
    },
    {
      "cell_type": "code",
      "metadata": {
        "id": "xsE59U5dNJ0l",
        "colab_type": "code",
        "colab": {}
      },
      "source": [
        "from itertools import chain\n",
        "import pandas as pd\n",
        "import sklearn\n",
        "import numpy as np\n",
        "import matplotlib.pyplot as plt\n",
        "from matplotlib.pyplot import figure\n",
        "\n",
        "from sklearn.preprocessing import OneHotEncoder, StandardScaler\n",
        "from sklearn.decomposition import PCA\n",
        "from sklearn.pipeline import Pipeline\n",
        "from sklearn.compose import ColumnTransformer\n",
        "from sklearn.model_selection import train_test_split\n",
        "from sklearn.metrics import accuracy_score,f1_score,confusion_matrix,classification_report\n",
        "from sklearn.tree import DecisionTreeClassifier\n",
        "\n",
        "import xgboost\n",
        "from tpot import TPOTClassifier\n",
        "\n",
        "dataset = pd.read_csv('/content/drive/My Drive/Datastorm/credit_card_default_train.csv')\n",
        "\n",
        "X = dataset.drop(['Client_ID','NEXT_MONTH_DEFAULT'],axis=1)\n",
        "Y = dataset['NEXT_MONTH_DEFAULT']\n",
        "\n",
        "X_train, X_test, Y_train, Y_test = train_test_split(X,Y,test_size=0.3,random_state=42)\n"
      ],
      "execution_count": null,
      "outputs": []
    },
    {
      "cell_type": "markdown",
      "metadata": {
        "id": "WExSn__b3zSb",
        "colab_type": "text"
      },
      "source": [
        "**Grouping categorical features and numerical features**"
      ]
    },
    {
      "cell_type": "code",
      "metadata": {
        "id": "eAJwBQLUNWPx",
        "colab_type": "code",
        "colab": {}
      },
      "source": [
        "X_cat_columns = []\n",
        "X_num_columns = []\n",
        "#Grouping categorical features other than clientID\n",
        "for i in range(len(X.columns)):\n",
        "    if X.dtypes[i] == object:\n",
        "        X_cat_columns.append(X.columns[i])\n",
        "    else:\n",
        "        X_num_columns.append(X.columns[i])\n",
        "\n"
      ],
      "execution_count": null,
      "outputs": []
    },
    {
      "cell_type": "markdown",
      "metadata": {
        "id": "sjz7XXR138kW",
        "colab_type": "text"
      },
      "source": [
        "**Transforming data**"
      ]
    },
    {
      "cell_type": "code",
      "metadata": {
        "id": "4fHmsN6CNY_h",
        "colab_type": "code",
        "colab": {}
      },
      "source": [
        "ohe = OneHotEncoder(sparse=False)\n",
        "scaler = StandardScaler()\n",
        "\n",
        "transformer = ColumnTransformer([('categorical',ohe,X_cat_columns),('numerical',scaler,X_num_columns)])\n",
        "\n",
        "X_train_transformed = transformer.fit_transform(X_train)\n",
        "X_test_transformed = transformer.transform(X_test)"
      ],
      "execution_count": null,
      "outputs": []
    },
    {
      "cell_type": "markdown",
      "metadata": {
        "id": "wGGqPHzYzD9U",
        "colab_type": "text"
      },
      "source": [
        "**Visualization Functions**"
      ]
    },
    {
      "cell_type": "code",
      "metadata": {
        "id": "S4Em8uofol-M",
        "colab_type": "code",
        "colab": {}
      },
      "source": [
        "def plot_accuracy(accuracies,min_max):\n",
        "  figure(num=None, figsize=(16, 8), dpi=80, facecolor='w', edgecolor='k')\n",
        "  min_comp,max_comp = min_max\n",
        "  plt.plot([i for i in range(min_comp,max_comp)],accuracies)\n",
        "  plt.xlabel('n_components')\n",
        "  plt.xticks(np.arange(min_comp,max_comp+1,1))\n",
        "  plt.ylabel('accuracy')\n",
        "  plt.show()"
      ],
      "execution_count": null,
      "outputs": []
    },
    {
      "cell_type": "markdown",
      "metadata": {
        "id": "3dNwY-ZgxPqw",
        "colab_type": "text"
      },
      "source": [
        "**Prediction using XGBoost**"
      ]
    },
    {
      "cell_type": "code",
      "metadata": {
        "id": "6zj-XUFRulNw",
        "colab_type": "code",
        "colab": {}
      },
      "source": [
        "def XGBoost_predict(X_train,X_test,Y_train,Y_test): \n",
        "\n",
        "  #using XGBoost Classifier to predict\n",
        "  xgb = xgboost.XGBClassifier()\n",
        "  xgb.fit(X_train, Y_train)\n",
        "  Y_pred = xgb.predict(X_test)\n",
        "\n",
        "  return accuracy_score(Y_test, Y_pred)"
      ],
      "execution_count": null,
      "outputs": []
    },
    {
      "cell_type": "code",
      "metadata": {
        "id": "ipqf-0F4mLnI",
        "colab_type": "code",
        "colab": {
          "base_uri": "https://localhost:8080/",
          "height": 35
        },
        "outputId": "30f90c76-000a-4327-c85d-153e9c525c60"
      },
      "source": [
        "print(XGBoost_predict(X_train_transformed,X_test_transformed,Y_train,Y_test))"
      ],
      "execution_count": null,
      "outputs": [
        {
          "output_type": "stream",
          "text": [
            "0.8245833333333333\n"
          ],
          "name": "stdout"
        }
      ]
    },
    {
      "cell_type": "markdown",
      "metadata": {
        "id": "C4RKpx2kzrV3",
        "colab_type": "text"
      },
      "source": [
        "**Upsampling data using SMOTE**"
      ]
    },
    {
      "cell_type": "code",
      "metadata": {
        "id": "OVR__xo_bGs3",
        "colab_type": "code",
        "colab": {
          "base_uri": "https://localhost:8080/",
          "height": 126
        },
        "outputId": "98134beb-1a72-47ed-d736-ec3356462544"
      },
      "source": [
        "!pip install imblearn"
      ],
      "execution_count": null,
      "outputs": [
        {
          "output_type": "stream",
          "text": [
            "Requirement already satisfied: imblearn in /usr/local/lib/python3.6/dist-packages (0.0)\n",
            "Requirement already satisfied: imbalanced-learn in /usr/local/lib/python3.6/dist-packages (from imblearn) (0.4.3)\n",
            "Requirement already satisfied: scikit-learn>=0.20 in /usr/local/lib/python3.6/dist-packages (from imbalanced-learn->imblearn) (0.22.1)\n",
            "Requirement already satisfied: numpy>=1.8.2 in /usr/local/lib/python3.6/dist-packages (from imbalanced-learn->imblearn) (1.17.5)\n",
            "Requirement already satisfied: scipy>=0.13.3 in /usr/local/lib/python3.6/dist-packages (from imbalanced-learn->imblearn) (1.4.1)\n",
            "Requirement already satisfied: joblib>=0.11 in /usr/local/lib/python3.6/dist-packages (from scikit-learn>=0.20->imbalanced-learn->imblearn) (0.14.1)\n"
          ],
          "name": "stdout"
        }
      ]
    },
    {
      "cell_type": "code",
      "metadata": {
        "id": "bzO9MmoRbXbi",
        "colab_type": "code",
        "colab": {
          "base_uri": "https://localhost:8080/",
          "height": 183
        },
        "outputId": "29f976eb-05ca-46da-8a0e-601d120cf562"
      },
      "source": [
        "from imblearn.over_sampling import SMOTE\n",
        "smt = SMOTE()\n",
        "X_train_upsampled, Y_train_upsampled = smt.fit_sample(X_train_transformed, Y_train)\n",
        "\n",
        "smt1 = SMOTE()\n",
        "X_test_upsampled, Y_test_upsampled = smt.fit_sample(X_test_transformed, Y_test)"
      ],
      "execution_count": null,
      "outputs": [
        {
          "output_type": "stream",
          "text": [
            "/usr/local/lib/python3.6/dist-packages/sklearn/externals/six.py:31: FutureWarning: The module is deprecated in version 0.21 and will be removed in version 0.23 since we've dropped support for Python 2.7. Please rely on the official version of six (https://pypi.org/project/six/).\n",
            "  \"(https://pypi.org/project/six/).\", FutureWarning)\n",
            "/usr/local/lib/python3.6/dist-packages/sklearn/utils/deprecation.py:144: FutureWarning: The sklearn.neighbors.base module is  deprecated in version 0.22 and will be removed in version 0.24. The corresponding classes / functions should instead be imported from sklearn.neighbors. Anything that cannot be imported from sklearn.neighbors is now part of the private API.\n",
            "  warnings.warn(message, FutureWarning)\n",
            "/usr/local/lib/python3.6/dist-packages/sklearn/utils/deprecation.py:87: FutureWarning: Function safe_indexing is deprecated; safe_indexing is deprecated in version 0.22 and will be removed in version 0.24.\n",
            "  warnings.warn(msg, category=FutureWarning)\n",
            "/usr/local/lib/python3.6/dist-packages/sklearn/utils/deprecation.py:87: FutureWarning: Function safe_indexing is deprecated; safe_indexing is deprecated in version 0.22 and will be removed in version 0.24.\n",
            "  warnings.warn(msg, category=FutureWarning)\n"
          ],
          "name": "stderr"
        }
      ]
    },
    {
      "cell_type": "markdown",
      "metadata": {
        "id": "ObrJyrNXz1dt",
        "colab_type": "text"
      },
      "source": [
        "**Prediction with upsampled data**"
      ]
    },
    {
      "cell_type": "code",
      "metadata": {
        "id": "ZMNUdBRiRPyU",
        "colab_type": "code",
        "colab": {
          "base_uri": "https://localhost:8080/",
          "height": 35
        },
        "outputId": "814d1183-16df-43fc-80cf-e76bff26e55a"
      },
      "source": [
        "model = DecisionTreeClassifier(ccp_alpha=0.0, class_weight=None,\n",
        "                                        criterion='entropy', max_depth=4,\n",
        "                                        max_features=None, max_leaf_nodes=None,\n",
        "                                        min_impurity_decrease=0.0,\n",
        "                                        min_impurity_split=None,\n",
        "                                        min_samples_leaf=3,\n",
        "                                        min_samples_split=18,\n",
        "                                        min_weight_fraction_leaf=0.0,\n",
        "                                        presort='deprecated', random_state=42,\n",
        "                                        splitter='best')\n",
        "\n",
        "model.fit(X_train_upsampled,Y_train_upsampled)\n",
        "Y_pred = model.predict(X_test_upsampled)\n",
        "accuracy_score(Y_test_upsampled,Y_pred)"
      ],
      "execution_count": null,
      "outputs": [
        {
          "output_type": "execute_result",
          "data": {
            "text/plain": [
              "0.7060189319521343"
            ]
          },
          "metadata": {
            "tags": []
          },
          "execution_count": 10
        }
      ]
    },
    {
      "cell_type": "code",
      "metadata": {
        "id": "kpXdySnmYK9_",
        "colab_type": "code",
        "colab": {
          "base_uri": "https://localhost:8080/",
          "height": 35
        },
        "outputId": "469aa8bb-49d2-45d2-b729-d97f401771c2"
      },
      "source": [
        "print(XGBoost_predict(X_train_upsampled,X_test_transformed, Y_train_upsampled,Y_test))"
      ],
      "execution_count": null,
      "outputs": [
        {
          "output_type": "stream",
          "text": [
            "0.80875\n"
          ],
          "name": "stdout"
        }
      ]
    },
    {
      "cell_type": "markdown",
      "metadata": {
        "id": "I4oUwduBzjCc",
        "colab_type": "text"
      },
      "source": [
        "**PCA on data**"
      ]
    },
    {
      "cell_type": "code",
      "metadata": {
        "id": "0LiOx0gPuH1W",
        "colab_type": "code",
        "colab": {}
      },
      "source": [
        "def PCA_on_data(X_train,X_test,Y_train,Y_test,n_comp):\n",
        "\n",
        "  #performing PCA on given data\n",
        "  pca = PCA(n_components=n_comp)\n",
        "  X_train_reduced = pca.fit_transform(X_train)\n",
        "  X_test_reduced = pca.transform(X_test)\n",
        "\n",
        "  return (X_train_reduced,X_test_reduced,Y_train,Y_test)"
      ],
      "execution_count": null,
      "outputs": []
    },
    {
      "cell_type": "markdown",
      "metadata": {
        "id": "i1JrPgEi2ZO8",
        "colab_type": "text"
      },
      "source": [
        "**Prediction on data with PCA**"
      ]
    },
    {
      "cell_type": "code",
      "metadata": {
        "id": "ZB4hrMvfx4yB",
        "colab_type": "code",
        "colab": {
          "base_uri": "https://localhost:8080/",
          "height": 566
        },
        "outputId": "54ed546c-e6fc-4779-fe6a-5adf40badb66"
      },
      "source": [
        "PCA_accuracy = []\n",
        "\n",
        "for n_comp in range(1,X_train_transformed.shape[1]):\n",
        "  PCA_accuracy.append(XGBoost_predict(*PCA_on_data(X_train_transformed,X_test_transformed,Y_train,Y_test,n_comp)))\n",
        "\n",
        "max_accuracy = max(PCA_accuracy)\n",
        "\n",
        "print(\"maximum accuracy is: \", max_accuracy, \" with \", PCA_accuracy.index(max_accuracy)+1 ,\" components\")\n",
        "\n",
        "plot_accuracy(PCA_accuracy,[1,X_train_transformed.shape[1]])"
      ],
      "execution_count": null,
      "outputs": [
        {
          "output_type": "stream",
          "text": [
            "maximum accuracy is:  0.8193055555555555  with  22  components\n"
          ],
          "name": "stdout"
        },
        {
          "output_type": "display_data",
          "data": {
            "image/png": "[encoded data removed]",
            "text/plain": [
              "<Figure size 1280x640 with 1 Axes>"
            ]
          },
          "metadata": {
            "tags": []
          }
        }
      ]
    },
    {
      "cell_type": "markdown",
      "metadata": {
        "id": "ZNSZaXV51y-y",
        "colab_type": "text"
      },
      "source": [
        "**Prediction on upsampled data with PCA**"
      ]
    },
    {
      "cell_type": "code",
      "metadata": {
        "id": "EIpWzr76yNF3",
        "colab_type": "code",
        "colab": {
          "base_uri": "https://localhost:8080/",
          "height": 566
        },
        "outputId": "726535f4-3d8a-456d-a1cc-9d21bf8be1a0"
      },
      "source": [
        "PCA_upsampled_accuracy = []\n",
        "\n",
        "for n_comp in range(1,X_train_upsampled.shape[1]):\n",
        "  PCA_upsampled_accuracy.append(XGBoost_predict(*PCA_on_data(X_train_upsampled,X_test_transformed,Y_train_upsampled,Y_test,n_comp)))\n",
        "\n",
        "print(\"maximum accuracy is: \", max(PCA_upsampled_accuracy), \" with \", PCA_upsampled_accuracy.index(max(PCA_upsampled_accuracy))+1 ,\" components\")\n",
        "\n",
        "plot_accuracy(PCA_upsampled_accuracy,[1,X_train_upsampled.shape[1]])"
      ],
      "execution_count": null,
      "outputs": [
        {
          "output_type": "stream",
          "text": [
            "maximum accuracy is:  0.78  with  12  components\n"
          ],
          "name": "stdout"
        },
        {
          "output_type": "display_data",
          "data": {
            "image/png": "[encoded data removed]",
            "text/plain": [
              "<Figure size 1280x640 with 1 Axes>"
            ]
          },
          "metadata": {
            "tags": []
          }
        }
      ]
    },
    {
      "cell_type": "markdown",
      "metadata": {
        "id": "iWhZ4KJixWst",
        "colab_type": "text"
      },
      "source": [
        "**(Optional) TPOT Method**"
      ]
    },
    {
      "cell_type": "code",
      "metadata": {
        "id": "ZFlvx5hFQvqp",
        "colab_type": "code",
        "colab": {}
      },
      "source": [
        "classifier = TPOTClassifier(generations=100, population_size=100,\n",
        "                          offspring_size=None, mutation_rate=0.9,\n",
        "                          crossover_rate=0.1,\n",
        "                          scoring='accuracy', cv=5,\n",
        "                          subsample=1.0, n_jobs=-1,\n",
        "                          max_time_mins=30, max_eval_time_mins=5,\n",
        "                          random_state=42,\n",
        "                          verbosity=2)\n",
        "\n",
        "classifier.fit(X_train_transformed,Y_train)\n",
        "classifier.score(X_test,Y_test)"
      ],
      "execution_count": null,
      "outputs": []
    },
    {
      "cell_type": "markdown",
      "metadata": {
        "id": "Mrk4pYH010D6",
        "colab_type": "text"
      },
      "source": [
        "**Linear Discriminant Analysis**"
      ]
    },
    {
      "cell_type": "code",
      "metadata": {
        "id": "9tHDLGdS1yWh",
        "colab_type": "code",
        "colab": {}
      },
      "source": [
        "from sklearn.discriminant_analysis import LinearDiscriminantAnalysis\n",
        "\n",
        "def LDA_on_data(X_train,X_test,Y_train,Y_test):\n",
        "  lda = LinearDiscriminantAnalysis()\n",
        "\n",
        "  # run an LDA and use it to transform the features\n",
        "  X_train_lda = lda.fit(X_train, Y_train).transform(X_train)\n",
        "  print('Original number of features:', X_train.shape[1])\n",
        "  print('Reduced number of features:', X_train_lda.shape[1])\n",
        "  X_test_lda = lda.transform(X_test)\n",
        "\n",
        "  return (X_train_lda,X_test_lda,Y_train,Y_test)"
      ],
      "execution_count": null,
      "outputs": []
    },
    {
      "cell_type": "code",
      "metadata": {
        "id": "9TbQ1Gdy2Qrh",
        "colab_type": "code",
        "colab": {
          "base_uri": "https://localhost:8080/",
          "height": 72
        },
        "outputId": "c3a7c2bb-3e83-4696-d127-cf7d3dca0d10"
      },
      "source": [
        "LDA_accuracy = XGBoost_predict(*LDA_on_data(X_train_transformed,X_test_transformed,Y_train,Y_test))\n",
        "\n",
        "print(\"accuracy is: \",LDA_accuracy)\n",
        "\n"
      ],
      "execution_count": null,
      "outputs": [
        {
          "output_type": "stream",
          "text": [
            "Original number of features: 37\n",
            "Reduced number of features: 1\n",
            "accuracy is:  0.8154166666666667  with one component\n"
          ],
          "name": "stdout"
        }
      ]
    },
    {
      "cell_type": "markdown",
      "metadata": {
        "id": "umKFgx958WOx",
        "colab_type": "text"
      },
      "source": [
        "**Prediction on data with PCA before LDA**"
      ]
    },
    {
      "cell_type": "code",
      "metadata": {
        "id": "BhIFXYKZ6K_t",
        "colab_type": "code",
        "colab": {
          "base_uri": "https://localhost:8080/",
          "height": 1000
        },
        "outputId": "7f098592-6c50-426d-9b4d-9654c0b83a80"
      },
      "source": [
        "PCA_and_LDA_accuracy = []\n",
        "\n",
        "for n_comp in range(1,X_train_transformed.shape[1]):\n",
        "  PCA_and_LDA_accuracy.append(XGBoost_predict(*LDA_on_data(*PCA_on_data(X_train_transformed,X_test_transformed,Y_train,Y_test,n_comp))))\n",
        "\n",
        "max_PCA_LDA_accuracy = max(PCA_and_LDA_accuracy)\n",
        "\n",
        "print(\"maximum accuracy is: \",max_PCA_LDA_accuracy, \" with \", PCA_and_LDA_accuracy.index(max_PCA_LDA_accuracy),\" PCA components\")\n",
        "\n",
        "plot_accuracy(PCA_and_LDA_accuracy,[1,X_train_transformed.shape[1]])"
      ],
      "execution_count": null,
      "outputs": [
        {
          "output_type": "stream",
          "text": [
            "Original number of features: 1\n",
            "Reduced number of features: 1\n",
            "Original number of features: 2\n",
            "Reduced number of features: 1\n",
            "Original number of features: 3\n",
            "Reduced number of features: 1\n",
            "Original number of features: 4\n",
            "Reduced number of features: 1\n",
            "Original number of features: 5\n",
            "Reduced number of features: 1\n",
            "Original number of features: 6\n",
            "Reduced number of features: 1\n",
            "Original number of features: 7\n",
            "Reduced number of features: 1\n",
            "Original number of features: 8\n",
            "Reduced number of features: 1\n",
            "Original number of features: 9\n",
            "Reduced number of features: 1\n",
            "Original number of features: 10\n",
            "Reduced number of features: 1\n",
            "Original number of features: 11\n",
            "Reduced number of features: 1\n",
            "Original number of features: 12\n",
            "Reduced number of features: 1\n",
            "Original number of features: 13\n",
            "Reduced number of features: 1\n",
            "Original number of features: 14\n",
            "Reduced number of features: 1\n",
            "Original number of features: 15\n",
            "Reduced number of features: 1\n",
            "Original number of features: 16\n",
            "Reduced number of features: 1\n",
            "Original number of features: 17\n",
            "Reduced number of features: 1\n",
            "Original number of features: 18\n",
            "Reduced number of features: 1\n",
            "Original number of features: 19\n",
            "Reduced number of features: 1\n",
            "Original number of features: 20\n",
            "Reduced number of features: 1\n",
            "Original number of features: 21\n",
            "Reduced number of features: 1\n",
            "Original number of features: 22\n",
            "Reduced number of features: 1\n",
            "Original number of features: 23\n",
            "Reduced number of features: 1\n",
            "Original number of features: 24\n",
            "Reduced number of features: 1\n",
            "Original number of features: 25\n",
            "Reduced number of features: 1\n",
            "Original number of features: 26\n",
            "Reduced number of features: 1\n",
            "Original number of features: 27\n",
            "Reduced number of features: 1\n",
            "Original number of features: 28\n",
            "Reduced number of features: 1\n",
            "Original number of features: 29\n",
            "Reduced number of features: 1\n",
            "Original number of features: 30\n",
            "Reduced number of features: 1\n",
            "Original number of features: 31\n",
            "Reduced number of features: 1\n",
            "Original number of features: 32\n",
            "Reduced number of features: 1\n",
            "Original number of features: 33\n",
            "Reduced number of features: 1\n",
            "Original number of features: 34\n",
            "Reduced number of features: 1\n",
            "Original number of features: 35\n",
            "Reduced number of features: 1\n",
            "Original number of features: 36\n",
            "Reduced number of features: 1\n",
            "maximum accuracy is:  0.8194444444444444  with  21  PCA components\n"
          ],
          "name": "stdout"
        },
        {
          "output_type": "display_data",
          "data": {
            "image/png": "[encoded data removed]",
            "text/plain": [
              "<Figure size 1280x640 with 1 Axes>"
            ]
          },
          "metadata": {
            "tags": []
          }
        }
      ]
    },
    {
      "cell_type": "markdown",
      "metadata": {
        "id": "fglLqTno9gLw",
        "colab_type": "text"
      },
      "source": [
        "**Locally Linear Embedding**"
      ]
    },
    {
      "cell_type": "code",
      "metadata": {
        "id": "etVYYrm08f39",
        "colab_type": "code",
        "colab": {}
      },
      "source": [
        "from sklearn.manifold import LocallyLinearEmbedding\n",
        "\n",
        "def LLE_on_data(X_train,X_test,Y_train,Y_test,n_comp):\n",
        "\n",
        "  embedding = LocallyLinearEmbedding(n_components=n_comp)\n",
        "  X_train_lle = embedding.fit_transform(X_train)\n",
        "  X_test_lle = embedding.transform(X_test)\n",
        "\n",
        "  return (X_train_lle,X_test_lle,Y_train,Y_test)"
      ],
      "execution_count": null,
      "outputs": []
    },
    {
      "cell_type": "code",
      "metadata": {
        "id": "c_smKZWZ9oxu",
        "colab_type": "code",
        "colab": {}
      },
      "source": [
        "LLE_accuracy = []\n",
        "\n",
        "for n_comp in range(1,X_train_transformed.shape[1]):\n",
        "  LLE_accuracy.append(XGBoost_predict(*LLE_on_data(X_train_transformed,X_test_transformed,Y_train,Y_test,n_comp))))\n",
        "\n",
        "max_LLE_accuracy = max(LLE_accuracy)\n",
        "\n",
        "print(\"maximum accuracy is: \",max_LLE_accuracy, \" with \", LLE_accuracy.index(max_LLE_accuracy),\" LLE components\")\n",
        "\n",
        "plot_accuracy(LLE_accuracy,[1,X_train_transformed.shape[1]])"
      ],
      "execution_count": null,
      "outputs": []
    }
  ]
}